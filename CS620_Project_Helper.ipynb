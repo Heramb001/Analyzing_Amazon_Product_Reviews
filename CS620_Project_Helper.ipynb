{
  "nbformat": 4,
  "nbformat_minor": 0,
  "metadata": {
    "colab": {
      "name": "CS620-Project-Helper.ipynb",
      "provenance": [],
      "collapsed_sections": []
    },
    "kernelspec": {
      "name": "python3",
      "display_name": "Python 3"
    }
  },
  "cells": [
    {
      "cell_type": "code",
      "metadata": {
        "id": "TYZcXUiFb_Xt",
        "colab_type": "code",
        "colab": {}
      },
      "source": [
        ""
      ],
      "execution_count": 0,
      "outputs": []
    },
    {
      "cell_type": "markdown",
      "metadata": {
        "id": "6VRDHqY3c2sk",
        "colab_type": "text"
      },
      "source": [
        "### Commented Codes"
      ]
    },
    {
      "cell_type": "code",
      "metadata": {
        "id": "fWxxCGTadQwC",
        "colab_type": "code",
        "colab": {}
      },
      "source": [
        "\n",
        "videoGamesPath = \"/content/drive/My Drive/ODU/CourseWork/CS - 620 | F19 | Intro to Data Science/Project/reviews_Video_Games.json.gz\"\n",
        "digitalMusicPath = \"/content/drive/My Drive/ODU/CourseWork/CS - 620 | F19 | Intro to Data Science/Project/reviews_Digital_Music.json.gz\"\n",
        "sportsPath = \"/content/drive/My Drive/ODU/CourseWork/CS - 620 | F19 | Intro to Data Science/Project/reviews_Sports_and_Outdoors.json.gz\"\n",
        "\n",
        "\n",
        "videoGamesMetaPath = \"/content/drive/My Drive/ODU/CourseWork/CS - 620 | F19 | Intro to Data Science/Project/meta_Video_Games.json.gz\"\n",
        "digitalMusicMetaPath = \"/content/drive/My Drive/ODU/CourseWork/CS - 620 | F19 | Intro to Data Science/Project/meta_Digital_Music.json.gz\"\n",
        "moviesMetaPath = \"/content/drive/My Drive/ODU/CourseWork/CS - 620 | F19 | Intro to Data Science/Project/meta_Sports_and_Outdoors.json.gz\"\n",
        "sportsMetaPath = \"/content/drive/My Drive/ODU/CourseWork/CS - 620 | F19 | Intro to Data Science/Project/meta_Movies_and_TV.json.gz\""
      ],
      "execution_count": 0,
      "outputs": []
    },
    {
      "cell_type": "code",
      "metadata": {
        "id": "YuyYODaVdGOC",
        "colab_type": "code",
        "colab": {}
      },
      "source": [
        "#Electronics = pd.read_json('https://www.cs.odu.edu/~hpendyal/courses/CS620/project/dataset/Electronics_5.json', , lines=True)\n",
        "#using spark\n",
        "\n",
        "#videoGames = getDF(videoGamesPath)\n",
        "#---- Video Games Data\n",
        "#videoGames = pd.read_json(videoGamesPath, compression='gzip', lines=True)\n",
        "#Electronics = getDF(electronicsMetaPath)"
      ],
      "execution_count": 0,
      "outputs": []
    },
    {
      "cell_type": "code",
      "metadata": {
        "id": "846ZBd0JdG1v",
        "colab_type": "code",
        "colab": {}
      },
      "source": [
        "\n",
        "#videoGamesMeta = getDF(videoGamesMetaPath)\n",
        "#videoGamesMeta.head()"
      ],
      "execution_count": 0,
      "outputs": []
    },
    {
      "cell_type": "code",
      "metadata": {
        "id": "OtW6Uvfyc6YA",
        "colab_type": "code",
        "colab": {}
      },
      "source": [
        "# #mode_yearly = Electronics.groupby(['year'])['overall'].value_counts().reset_index()\n",
        "# #-- mean_yearly = mean_yearly.rename(columns={'overall':'no_of_reviews'})\n",
        "# sns.lineplot(x='year',y='overall',data=mean_yearly, label = 'Mean')\n",
        "# sns.lineplot(x='year',y='overall',data=median_yearly, label = 'Median')\n",
        "# #sns.lineplot(x='year',y='overall',data=mode_yearly)\n",
        "# f.tight_layout()\n",
        "# #yearChart.set_title('No of reviews over years')\n",
        "#stat_reviews_yearly['mode'] = "
      ],
      "execution_count": 0,
      "outputs": []
    },
    {
      "cell_type": "code",
      "metadata": {
        "id": "-ZtBrdOPc46Q",
        "colab_type": "code",
        "colab": {}
      },
      "source": [
        "#--- Distribution of Length of review vs helpful count\n",
        "# reviewLength = Electronics_reviews[['asin','reviewLength']]\n",
        "# #print(reviewLength.describe())\n",
        "# #helpfulness.describe()\n",
        "# reviewLength_vs_helpfulCount = pd.merge(reviewLength,helpfulness, on='asin', how = 'outer')\n",
        "# reviewLength_vs_helpfulCount.head()\n",
        "#reviewLength_vs_helpfulCount = pd.merge(reviewLength,helpfulness, on='asin', how = 'inner')\n",
        "#reviewLength_vs_helpfulCountChart = sns.barplot(x='helpfulVotes', y='reviewLength', data=reviewLength_vs_helpfulCount)\n",
        "# reviewLength = spark.createDataFrame(Electronics_reviews[['asin','reviewLength']])\n",
        "# helpfulnessDF = spark.createDataFrame(helpfulness)\n",
        "# reviewLength_vs_helpfulCountDF = reviewLength.join(helpfulnessDF,on=['asin'],how='inner')\n",
        "#reviewLength_vs_helpfulCountDF.show()\n",
        "#reviewLength_vs_helpfulCount = reviewLength_vs_helpfulCountDF.toPandas()\n",
        "#reviewLength_vs_helpfulCount.head()\n",
        "#reviewLength_vs_helpfulCountChart = sns.barplot(x='helpfulVotes', y='reviewLength', data=reviewLength_vs_helpfulCount)"
      ],
      "execution_count": 0,
      "outputs": []
    },
    {
      "cell_type": "code",
      "metadata": {
        "id": "FCJ6nWLRdgwX",
        "colab_type": "code",
        "colab": {}
      },
      "source": [
        "#word Frequencies\n",
        "# text = \" \".join(review for review in Electronics.reviewText)\n",
        "# print (\"There are {} words in the combination of all review.\".format(len(text)))\n",
        "# # Create and generate a word cloud image:\n",
        "# stopwords = set(STOPWORDS)\n",
        "# #stopwords.update([])\n",
        "\n",
        "# # Generate a word cloud image\n",
        "# wordcloud = WordCloud(stopwords=stopwords, background_color=\"white\").generate(text)\n",
        "\n",
        "# # Display the generated image:\n",
        "# plt.imshow(wordcloud, interpolation='bilinear')\n",
        "# plt.axis(\"off\")\n",
        "# plt.show()"
      ],
      "execution_count": 0,
      "outputs": []
    },
    {
      "cell_type": "markdown",
      "metadata": {
        "id": "OmrO_Csvcpyd",
        "colab_type": "text"
      },
      "source": [
        "### Need to execute Only 1 time"
      ]
    },
    {
      "cell_type": "code",
      "metadata": {
        "id": "RRt9pW3kcs5R",
        "colab_type": "code",
        "colab": {}
      },
      "source": [
        "%%time\n",
        "#-- Analyzing reviews\n",
        "#-- !-- NEED TO EXECUTE EVERYTIME --!\n",
        "#-- !-- PREPROCESSING 1 --!\n",
        "#-- getting reveiw time and date into seperate columns\n",
        "Electronics['reviewTime'] = pd.to_datetime(Electronics['reviewTime'])\n",
        "Electronics['month'] = Electronics['reviewTime'].dt.month\n",
        "Electronics['year'] = Electronics['reviewTime'].dt.year\n",
        "#Electronics.groupby(['Year'])['reviewerId']\n",
        "print(\"Splitting review's data and time completed in \")\n",
        "Electronics.to_pickle('/content/drive/My Drive/ODU/CourseWork/CS - 620 | F19 | Intro to Data Science/Project/Electronics_split.pkl')"
      ],
      "execution_count": 0,
      "outputs": []
    },
    {
      "cell_type": "markdown",
      "metadata": {
        "id": "Sie05fc-d7OX",
        "colab_type": "text"
      },
      "source": [
        "***-- Cleaned Review***"
      ]
    },
    {
      "cell_type": "code",
      "metadata": {
        "id": "LtWZ2JwFd6DC",
        "colab_type": "code",
        "colab": {}
      },
      "source": [
        "#--- Not Required to execute everytime\n",
        "%%time\n",
        "Electronics['cleanedReview'] = Electronics['reviewText'].map(preprocessText)\n",
        "print()\n",
        "print(\"Preprocessing completed in \")"
      ],
      "execution_count": 0,
      "outputs": []
    },
    {
      "cell_type": "code",
      "metadata": {
        "id": "V1s_qwnVdsU7",
        "colab_type": "code",
        "colab": {}
      },
      "source": [
        "%%time\n",
        "#--- Not Required to execute everytime\n",
        "Electronics[['helpfulVotes','totalVotes']] = pd.DataFrame(Electronics.helpful.values.tolist(), index=Electronics.index)\n",
        "Electronics = Electronics.drop(['helpful'], axis = 1)\n",
        "Electronics.to_pickle('/content/drive/My Drive/ODU/CourseWork/CS - 620 | F19 | Intro to Data Science/Project/Electronics_Cleaned_NO_STEM.pkl')\n",
        "Electronics.head()"
      ],
      "execution_count": 0,
      "outputs": []
    },
    {
      "cell_type": "code",
      "metadata": {
        "id": "2ysSLRKodu58",
        "colab_type": "code",
        "colab": {}
      },
      "source": [
        "#--- Not Required to execute everytime\n",
        "#--- Assigning positive review for all the products with review >= 4\n",
        "Electronics['binrating'] = Electronics['overall'] >= 4\n",
        "Electronics.head()"
      ],
      "execution_count": 0,
      "outputs": []
    },
    {
      "cell_type": "markdown",
      "metadata": {
        "id": "8iYZLU9Od0SR",
        "colab_type": "text"
      },
      "source": [
        "As the above 3 cells are already processed are already Processed and saved we will read the data from saved file"
      ]
    },
    {
      "cell_type": "markdown",
      "metadata": {
        "id": "IsHZZXTZeI5f",
        "colab_type": "text"
      },
      "source": [
        "***-- Calculating the sentiment using vader Sentiment***"
      ]
    },
    {
      "cell_type": "code",
      "metadata": {
        "id": "3SMAbg_Rd1Yd",
        "colab_type": "code",
        "colab": {}
      },
      "source": [
        "#-- Not required to execute everytime\n",
        "%%time\n",
        "Electronics['Sentiment_Score']=Electronics['reviewText'].apply(lambda x: sentimental_Score(x))\n",
        "print(Electronics.head())"
      ],
      "execution_count": 0,
      "outputs": []
    },
    {
      "cell_type": "code",
      "metadata": {
        "id": "4GEfNwMxeRMj",
        "colab_type": "code",
        "colab": {}
      },
      "source": [
        "#--- Not required to execute everytime\n",
        "#---save the files into data\n",
        "Electronics.to_pickle('Electronics_sentiment.pkl')"
      ],
      "execution_count": 0,
      "outputs": []
    },
    {
      "cell_type": "code",
      "metadata": {
        "id": "FTOMEVYieUNR",
        "colab_type": "code",
        "colab": {}
      },
      "source": [
        "#--- Not required to execute everytime\n",
        "%%time\n",
        "positive_data = Electronics.loc[Electronics['Sentiment_Score'] == 'pos']\n",
        "negative_data = Electronics.loc[Electronics['Sentiment_Score'] == 'neg']\n",
        "neutral_data = Electronics.loc[Electronics['Sentiment_Score'] == 'neu']\n",
        "\n",
        "positive_data.to_pickle('positive_reviews.pkl')\n",
        "negative_data.to_pickle('negative_reviews.pkl')\n",
        "neutral_data.to_pickle('neutral_reviews.pkl')"
      ],
      "execution_count": 0,
      "outputs": []
    },
    {
      "cell_type": "code",
      "metadata": {
        "id": "Hne_FKw6eX-J",
        "colab_type": "code",
        "colab": {}
      },
      "source": [
        "#--- Not Required to execute everytime\n",
        "sentimentAnalysisPath = \"/content/drive/My Drive/ODU/CourseWork/CS - 620 | F19 | Intro to Data Science/Project/SentimentAnalysis.pkl\"\n",
        "PositiveReviewsPath = \"/content/drive/My Drive/ODU/CourseWork/CS - 620 | F19 | Intro to Data Science/Project/SentimentAnalysis-positive.pkl\"\n",
        "NegativeReviewsPath = \"/content/drive/My Drive/ODU/CourseWork/CS - 620 | F19 | Intro to Data Science/Project/SentimentAnalysis-negative.pkl\"\n",
        "NeutralReviewsPath = \"/content/drive/My Drive/ODU/CourseWork/CS - 620 | F19 | Intro to Data Science/Project/SentimentAnalysis-neutral.pkl\"\n",
        "#---save the files into data\n",
        "Electronics.to_pickle(sentimentAnalysisPath)\n",
        "positive_data.to_pickle(PositiveReviewsPath)\n",
        "negative_data.to_pickle(NegativeReviewsPath)\n",
        "neutral_data.to_pickle(NeutralReviewsPath)"
      ],
      "execution_count": 0,
      "outputs": []
    },
    {
      "cell_type": "markdown",
      "metadata": {
        "id": "hfMkkUb4esJg",
        "colab_type": "text"
      },
      "source": [
        "### ROugh-- WOrking with data to get popular bundle of products that go on sale\n"
      ]
    },
    {
      "cell_type": "code",
      "metadata": {
        "id": "WmuMQGNaez_1",
        "colab_type": "code",
        "colab": {}
      },
      "source": [
        "%%time\n",
        "import json\n",
        "import glob\n",
        "# Firstly cleaning the data by converting files into proper json format files by some replacements and \n",
        "# then Making a list of Tuples containg all the data of json files.         \n",
        "Combine=[]\n",
        "for index, row in electronics_meta.iterrows():\n",
        "  try:\n",
        "    if not pd.isna(row['related']) :\n",
        "      y = str(row['related']).replace(\"'\",'\"')\n",
        "      jdata = json.loads(y)\n",
        "      #print(jdata)\n",
        "      #print((row['asin'],row['price'],jdata['also_viewed']))\n",
        "      if jdata.get('bought_together') and jdata.get('also_bought') and jdata.get('also_viewed'): \n",
        "        #print((row['asin'],jdata['bought_together'],row['price'],jdata['also_bought'],jdata['also_viewed']))\n",
        "        Combine.append((row['asin'],jdata['bought_together'],row['price'],jdata['also_bought'],jdata['also_viewed']))\n",
        "      elif jdata.get('bought_together') and jdata.get('also_bought') and not jdata.get('also_viewed'):\n",
        "        Combine.append((row['asin'],jdata['bought_together'],row['price'],jdata['also_bought'],[]))\n",
        "      elif jdata.get('bought_together') and jdata.get('also_viewed') and not jdata.get('also_bought'):\n",
        "        Combine.append((row['asin'],jdata['bought_together'],row['price'],[],jdata['also_viewed']))\n",
        "      elif jdata.get('also_bought') and jdata.get('also_viewed') and not jdata.get('bought_together'):\n",
        "        Combine.append((row['asin'],[],row['price'],jdata['also_bought'],jdata['also_viewed']))\n",
        "      elif jdata.get('bought_together') and not jdata.get('also_bought') and not jdata.get('also_viewed'):\n",
        "        Combine.append((row['asin'],jdata['bought_together'],row['price'],[],[]))\n",
        "      elif jdata.get('also_bought') and not jdata.get('bought_together') and not jdata.get('also_viewed'):\n",
        "        Combine.append((row['asin'],[],row['price'],jdata['also_bought'],[]))\n",
        "      elif jdata.get('also_viewed') and not jdata.get('also_bought') and not jdata.get('bought_together'):\n",
        "        Combine.append((row['asin'],[],row['price'],[],jdata['also_viewed']))\n",
        "      else:\n",
        "        Combine.append((row['asin'],[],row['price'],[],[]))\n",
        "      #Combine.append((row['asin'],jdata['related']['bought_together'],row['price'],jdata['related']['also_bought'],jdata['related']['also_viewed']))\n",
        "  except:\n",
        "    pass\n",
        "\n",
        "# getting numerical values for 'Number_Of_Pack' and etc.\n",
        "CombineValue=[]\n",
        "for i in Combine:\n",
        "  CombineValue.append((i[0],len(i[1])+1,i[2],len(i[3]),len(i[4])))\n",
        "        \n",
        "        \n",
        "# Creating a dataframe using the list of Tuples got in the previous step.     \n",
        "Pack_dataset=pd.DataFrame(CombineValue,columns=['asin','Number_Of_Pack','price','Also_Bought','Also_Viewed'])"
      ],
      "execution_count": 0,
      "outputs": []
    },
    {
      "cell_type": "code",
      "metadata": {
        "id": "8NvOOxhbe4tv",
        "colab_type": "code",
        "colab": {}
      },
      "source": [
        "Pack_dataset.head()"
      ],
      "execution_count": 0,
      "outputs": []
    },
    {
      "cell_type": "markdown",
      "metadata": {
        "id": "b3wJXhW0e9fO",
        "colab_type": "text"
      },
      "source": [
        "***CHECK FOR THE POPULAR BUNDLE (i.e. QUANTITY IN A BUNDLE).***\n",
        "\n",
        "Grouping by Number of Pack and getting their respective count."
      ]
    },
    {
      "cell_type": "code",
      "metadata": {
        "id": "zmkY4j04e-id",
        "colab_type": "code",
        "colab": {}
      },
      "source": [
        "Pack_result=Pack_dataset.groupby('Number_Of_Pack')['asin'].count().reset_index()\n",
        "Pack_result=Pack_result.rename(columns={'asin': 'Count'})\n",
        "Pack_result.plot(x=\"Number_Of_Pack\",y=\"Count\",kind=\"bar\",title=\"POPULAR BUNDLE\")\n",
        "plt.show()"
      ],
      "execution_count": 0,
      "outputs": []
    },
    {
      "cell_type": "markdown",
      "metadata": {
        "id": "g4hLjZvhfM9q",
        "colab_type": "text"
      },
      "source": [
        "***TOP 10 POPULAR BRANDS WHICH SELLS PACK OF 1 AND PACK OF 2, AS THEY ARE THE POPULAR BUNDLES***\n",
        "\n",
        "Get all the asin for Pack 1 and 2 since they have the highest number of counts."
      ]
    },
    {
      "cell_type": "code",
      "metadata": {
        "id": "0W8mpzgffODS",
        "colab_type": "code",
        "colab": {}
      },
      "source": [
        "Pack1_2=Pack_dataset[(Pack_dataset.Number_Of_Pack == 1) | (Pack_dataset.Number_Of_Pack == 2)]\n",
        "list_Pack1_2=Pack1_2.asin.tolist()\n",
        "len(list_Pack1_2)"
      ],
      "execution_count": 0,
      "outputs": []
    },
    {
      "cell_type": "markdown",
      "metadata": {
        "id": "RkCLKU7pfS9H",
        "colab_type": "text"
      },
      "source": [
        "Getting the brand name of those asin which is present in the list 'list_Pack1_2'."
      ]
    },
    {
      "cell_type": "code",
      "metadata": {
        "id": "HMTSDbAKfQQ1",
        "colab_type": "code",
        "colab": {}
      },
      "source": [
        "%%time\n",
        "pop_Brand=[]\n",
        "for index, row in electronics_meta.iterrows():\n",
        "# for p in list_Pack1_2:\n",
        "  if row['asin'] in list_Pack1_2:\n",
        "    if not pd.isna(row['brand']):\n",
        "      #print(row['brand'])\n",
        "      pop_Brand.append(row['brand'])\n",
        "    else:\n",
        "      pop_Brand.append('')\n",
        "    #pop_Brand.append(electronics_meta[electronics_meta['asin'] == p].brand)\n",
        "#-- Removing the rows which does not have brand name.\n",
        "pop_Brand=list(filter(None, pop_Brand))\n",
        "pop_Brand"
      ],
      "execution_count": 0,
      "outputs": []
    },
    {
      "cell_type": "markdown",
      "metadata": {
        "id": "fGgdqjzTALW2",
        "colab_type": "text"
      },
      "source": [
        "Getting the brand name of those asin which is present in the list 'list_Pack1_2'."
      ]
    },
    {
      "cell_type": "code",
      "metadata": {
        "id": "2ZX36z3dfVxw",
        "colab_type": "code",
        "colab": {}
      },
      "source": [
        "Top10=collections.Counter(pop_Brand).most_common(10)\n",
        "# creating a DataFrame\n",
        "Top10_data=pd.DataFrame(Top10,columns=['brand','No_Of_Pack_1_&_2'])\n",
        "Top10_data.head()"
      ],
      "execution_count": 0,
      "outputs": []
    },
    {
      "cell_type": "code",
      "metadata": {
        "id": "Jp6hyCKCAUq5",
        "colab_type": "code",
        "colab": {}
      },
      "source": [
        "Top10_data.plot(x=\"brand\",y=\"No_Of_Pack_1_&_2\",kind=\"bar\",title=\"POPULAR BRAND\")\n",
        "plt.show()"
      ],
      "execution_count": 0,
      "outputs": []
    },
    {
      "cell_type": "markdown",
      "metadata": {
        "id": "du6omonucVyA",
        "colab_type": "text"
      },
      "source": [
        "### ROugh OLD\n"
      ]
    },
    {
      "cell_type": "code",
      "metadata": {
        "id": "mALPP_3XcVCm",
        "colab_type": "code",
        "colab": {}
      },
      "source": [
        "#--- Rough for coding \n",
        "#--- Total reviews 1689188\n",
        "reviews_word_length['count'].sum()"
      ],
      "execution_count": 0,
      "outputs": []
    },
    {
      "cell_type": "code",
      "metadata": {
        "id": "x2VeJUvfcZvZ",
        "colab_type": "code",
        "colab": {}
      },
      "source": [
        "#--- ROugh\n",
        "for index, row in electronics_meta.iterrows():\n",
        "  if not pd.isna(row['related']) :\n",
        "    y = str(row['related']).replace(\"'\",'\"')\n",
        "    jdata = json.loads(y)\n",
        "    #print(jdata)\n",
        "    #print((row['asin'],row['price'],jdata['also_viewed']))\n",
        "    if jdata.get('bought_together') and jdata.get('also_bought') and jdata.get('also_viewed'): \n",
        "      print((row['asin'],jdata['bought_together'],row['price'],jdata['also_bought'],jdata['also_viewed']))\n",
        "    elif jdata.get('bought_together') and jdata.get('also_bought') and not jdata.get('also_viewed'):\n",
        "      print((row['asin'],jdata['bought_together'],row['price'],jdata['also_bought'],0))\n",
        "    elif jdata.get('bought_together') and jdata.get('also_viewed') and not jdata.get('also_bought'):\n",
        "      print((row['asin'],jdata['bought_together'],row['price'],0,jdata['also_viewed']))\n",
        "    elif jdata.get('also_bought') and jdata.get('also_viewed') and not jdata.get('bought_together'):\n",
        "      print((row['asin'],0,row['price'],jdata['also_bought'],jdata['also_viewed']))\n",
        "    elif jdata.get('bought_together') and not jdata.get('also_bought') and not jdata.get('also_viewed'):\n",
        "      print((row['asin'],jdata['bought_together'],row['price'],0,0))\n",
        "    elif jdata.get('also_bought') and not jdata.get('bought_together') and not jdata.get('also_viewed'):\n",
        "      print((row['asin'],0,row['price'],jdata['also_bought'],0))\n",
        "    elif jdata.get('also_viewed') and not jdata.get('also_bought') and not jdata.get('bought_together'):\n",
        "      print((row['asin'],0,row['price'],0,jdata['also_viewed']))\n",
        "    else:\n",
        "      print((row['asin'],0,row['price'],0,0))\n",
        "    if index == 6:\n",
        "      break"
      ],
      "execution_count": 0,
      "outputs": []
    },
    {
      "cell_type": "markdown",
      "metadata": {
        "id": "q9Fx51jylwz9",
        "colab_type": "text"
      },
      "source": [
        "### ROUGH-111"
      ]
    },
    {
      "cell_type": "code",
      "metadata": {
        "id": "P9ZivFDd_4dW",
        "colab_type": "code",
        "outputId": "b5ffd443-6c71-403b-e278-ad81feb788f0",
        "colab": {
          "base_uri": "https://localhost:8080/",
          "height": 204
        }
      },
      "source": [
        "df = dataset_cleaned.sort_values(by='asin')\n",
        "df = df.reset_index(drop=True)\n",
        "count = df.groupby(\"asin\", as_index=False).mean()\n",
        "count_users = df.groupby(\"reviewerID\", as_index=False).count()\n",
        "\n",
        "df_clean = df[['asin', 'reviewerID', 'overall']]\n",
        "df_clean.head()"
      ],
      "execution_count": 0,
      "outputs": [
        {
          "output_type": "execute_result",
          "data": {
            "text/html": [
              "<div>\n",
              "<style scoped>\n",
              "    .dataframe tbody tr th:only-of-type {\n",
              "        vertical-align: middle;\n",
              "    }\n",
              "\n",
              "    .dataframe tbody tr th {\n",
              "        vertical-align: top;\n",
              "    }\n",
              "\n",
              "    .dataframe thead th {\n",
              "        text-align: right;\n",
              "    }\n",
              "</style>\n",
              "<table border=\"1\" class=\"dataframe\">\n",
              "  <thead>\n",
              "    <tr style=\"text-align: right;\">\n",
              "      <th></th>\n",
              "      <th>asin</th>\n",
              "      <th>reviewerID</th>\n",
              "      <th>overall</th>\n",
              "    </tr>\n",
              "  </thead>\n",
              "  <tbody>\n",
              "    <tr>\n",
              "      <th>0</th>\n",
              "      <td>0528881469</td>\n",
              "      <td>AO94DHGC771SJ</td>\n",
              "      <td>5</td>\n",
              "    </tr>\n",
              "    <tr>\n",
              "      <th>1</th>\n",
              "      <td>0528881469</td>\n",
              "      <td>AMO214LNFCEI4</td>\n",
              "      <td>1</td>\n",
              "    </tr>\n",
              "    <tr>\n",
              "      <th>2</th>\n",
              "      <td>0528881469</td>\n",
              "      <td>A3N7T0DY83Y4IG</td>\n",
              "      <td>3</td>\n",
              "    </tr>\n",
              "    <tr>\n",
              "      <th>3</th>\n",
              "      <td>0528881469</td>\n",
              "      <td>A1H8PY3QHMQQA0</td>\n",
              "      <td>2</td>\n",
              "    </tr>\n",
              "    <tr>\n",
              "      <th>4</th>\n",
              "      <td>0528881469</td>\n",
              "      <td>A24EV6RXELQZ63</td>\n",
              "      <td>1</td>\n",
              "    </tr>\n",
              "  </tbody>\n",
              "</table>\n",
              "</div>"
            ],
            "text/plain": [
              "         asin      reviewerID  overall\n",
              "0  0528881469   AO94DHGC771SJ        5\n",
              "1  0528881469   AMO214LNFCEI4        1\n",
              "2  0528881469  A3N7T0DY83Y4IG        3\n",
              "3  0528881469  A1H8PY3QHMQQA0        2\n",
              "4  0528881469  A24EV6RXELQZ63        1"
            ]
          },
          "metadata": {
            "tags": []
          },
          "execution_count": 51
        }
      ]
    },
    {
      "cell_type": "code",
      "metadata": {
        "id": "HYHHAnaIfeMW",
        "colab_type": "code",
        "outputId": "f36880e9-6437-44f0-e60f-38c3d2a305b3",
        "colab": {
          "base_uri": "https://localhost:8080/",
          "height": 34
        }
      },
      "source": [
        "n_users = df_clean.reviewerID.unique().shape[0]\n",
        "n_items = df_clean.asin.unique().shape[0]\n",
        "print ('Number of Products = ' + str(n_items)+' | Number of users = ' + str(n_users))"
      ],
      "execution_count": 0,
      "outputs": [
        {
          "output_type": "stream",
          "text": [
            "Number of Products = 63001 | Number of users = 192403\n"
          ],
          "name": "stdout"
        }
      ]
    },
    {
      "cell_type": "code",
      "metadata": {
        "id": "4gS7pD8xfuKg",
        "colab_type": "code",
        "outputId": "3ca04881-2cdf-4db3-9dff-edc3fb6fd846",
        "colab": {
          "base_uri": "https://localhost:8080/",
          "height": 80
        }
      },
      "source": [
        "count_users.loc[count_users['reviewerID'] == 'AO94DHGC771SJ']"
      ],
      "execution_count": 0,
      "outputs": [
        {
          "output_type": "execute_result",
          "data": {
            "text/html": [
              "<div>\n",
              "<style scoped>\n",
              "    .dataframe tbody tr th:only-of-type {\n",
              "        vertical-align: middle;\n",
              "    }\n",
              "\n",
              "    .dataframe tbody tr th {\n",
              "        vertical-align: top;\n",
              "    }\n",
              "\n",
              "    .dataframe thead th {\n",
              "        text-align: right;\n",
              "    }\n",
              "</style>\n",
              "<table border=\"1\" class=\"dataframe\">\n",
              "  <thead>\n",
              "    <tr style=\"text-align: right;\">\n",
              "      <th></th>\n",
              "      <th>reviewerID</th>\n",
              "      <th>asin</th>\n",
              "      <th>reviewerName</th>\n",
              "      <th>reviewText</th>\n",
              "      <th>overall</th>\n",
              "      <th>summary</th>\n",
              "      <th>unixReviewTime</th>\n",
              "      <th>reviewTime</th>\n",
              "      <th>month</th>\n",
              "      <th>year</th>\n",
              "      <th>cleanedReview</th>\n",
              "      <th>helpfulVotes</th>\n",
              "      <th>totalVotes</th>\n",
              "      <th>Sentiment_Score</th>\n",
              "    </tr>\n",
              "  </thead>\n",
              "  <tbody>\n",
              "    <tr>\n",
              "      <th>176008</th>\n",
              "      <td>AO94DHGC771SJ</td>\n",
              "      <td>7</td>\n",
              "      <td>7</td>\n",
              "      <td>7</td>\n",
              "      <td>7</td>\n",
              "      <td>7</td>\n",
              "      <td>7</td>\n",
              "      <td>7</td>\n",
              "      <td>7</td>\n",
              "      <td>7</td>\n",
              "      <td>7</td>\n",
              "      <td>7</td>\n",
              "      <td>7</td>\n",
              "      <td>7</td>\n",
              "    </tr>\n",
              "  </tbody>\n",
              "</table>\n",
              "</div>"
            ],
            "text/plain": [
              "           reviewerID  asin  ...  totalVotes  Sentiment_Score\n",
              "176008  AO94DHGC771SJ     7  ...           7                7\n",
              "\n",
              "[1 rows x 14 columns]"
            ]
          },
          "metadata": {
            "tags": []
          },
          "execution_count": 54
        }
      ]
    },
    {
      "cell_type": "code",
      "metadata": {
        "id": "iw3IAFcngDQ6",
        "colab_type": "code",
        "outputId": "fcaab3c2-512a-4572-f5b2-3f9a667a7751",
        "colab": {
          "base_uri": "https://localhost:8080/",
          "height": 68
        }
      },
      "source": [
        "items_df = count[['asin']]\n",
        "print('Products List : ',len(items_df))\n",
        "users_df = count_users[['reviewerID']]\n",
        "print(len(users_df))\n",
        "users_list = users_df.values\n",
        "print(len(users_list))"
      ],
      "execution_count": 0,
      "outputs": [
        {
          "output_type": "stream",
          "text": [
            "63001\n",
            "192403\n",
            "192403\n"
          ],
          "name": "stdout"
        }
      ]
    },
    {
      "cell_type": "code",
      "metadata": {
        "id": "RSwKHVfUgbce",
        "colab_type": "code",
        "outputId": "f2d13ebb-1949-4f39-8383-821a31dc8937",
        "colab": {
          "base_uri": "https://localhost:8080/",
          "height": 85
        }
      },
      "source": [
        "%%time\n",
        "from sklearn.model_selection import train_test_split\n",
        "trainSet, testSet = train_test_split(df_clean, test_size=0.2,stratify=df_clean['reviewerID'])\n",
        "\n",
        "print(len(testSet))\n",
        "print(len(trainSet))\n",
        "\n",
        "print(testSet.shape)\n",
        "print(trainSet.shape)"
      ],
      "execution_count": 0,
      "outputs": [
        {
          "output_type": "stream",
          "text": [
            "337838\n",
            "1351350\n",
            "(337838, 3)\n",
            "(1351350, 3)\n"
          ],
          "name": "stdout"
        }
      ]
    },
    {
      "cell_type": "code",
      "metadata": {
        "id": "JepP6wuwg7Ww",
        "colab_type": "code",
        "outputId": "60717cac-a8b6-4eb7-8dc9-60e38374ba91",
        "colab": {
          "base_uri": "https://localhost:8080/",
          "height": 544
        }
      },
      "source": [
        "%%time\n",
        "mean_items = trainSet.groupby(['asin']).mean()\n",
        "\n",
        "mean_users = trainSet.groupby(['reviewerID']).mean()\n",
        "\n",
        "mean_overall = trainSet[\"overall\"].mean()\n",
        "\n",
        "print(mean_items,mean_users,mean_overall)\n",
        "#print('> Items Mean : \\n',mean_items.head(),'\\n> Users Mean : \\n',mean_users.head(),'\\n> Overall Mean : \\n',mean_overall.head())"
      ],
      "execution_count": 0,
      "outputs": [
        {
          "output_type": "stream",
          "text": [
            "             overall\n",
            "asin                \n",
            "0528881469  3.500000\n",
            "0594451647  4.000000\n",
            "0594481813  4.000000\n",
            "0972683275  4.455556\n",
            "1400501466  4.025000\n",
            "...              ...\n",
            "B00L21HC7A  4.500000\n",
            "B00L2442H0  4.857143\n",
            "B00L26YDA4  4.538462\n",
            "B00L3YHF6O  5.000000\n",
            "B00LGQ6HL8  5.000000\n",
            "\n",
            "[62999 rows x 1 columns]                         overall\n",
            "reviewerID                     \n",
            "A000715434M800HLCENK9  3.500000\n",
            "A00101847G3FJTWYGNQA   4.600000\n",
            "A00166281YWM98A3SVD55  4.750000\n",
            "A0046696382DWIPVIWO0K  4.000000\n",
            "A00472881KT6WR48K907X  4.500000\n",
            "...                         ...\n",
            "AZZV2NAQL8KHQ          4.142857\n",
            "AZZVLOF3WKLFW          3.111111\n",
            "AZZVYHVJ8BDUZ          4.833333\n",
            "AZZX23UGJGKTT          4.647059\n",
            "AZZYW4YOE1B6E          4.480000\n",
            "\n",
            "[192403 rows x 1 columns] 4.222874902874903\n",
            "CPU times: user 2.03 s, sys: 3.14 ms, total: 2.04 s\n",
            "Wall time: 2.04 s\n"
          ],
          "name": "stdout"
        }
      ]
    },
    {
      "cell_type": "code",
      "metadata": {
        "id": "REnRcinIh4q0",
        "colab_type": "code",
        "outputId": "e21b0615-e5c7-4791-9697-be3ee9e0dd3b",
        "colab": {
          "base_uri": "https://localhost:8080/",
          "height": 204
        }
      },
      "source": [
        "trainSet.head()"
      ],
      "execution_count": 0,
      "outputs": [
        {
          "output_type": "execute_result",
          "data": {
            "text/html": [
              "<div>\n",
              "<style scoped>\n",
              "    .dataframe tbody tr th:only-of-type {\n",
              "        vertical-align: middle;\n",
              "    }\n",
              "\n",
              "    .dataframe tbody tr th {\n",
              "        vertical-align: top;\n",
              "    }\n",
              "\n",
              "    .dataframe thead th {\n",
              "        text-align: right;\n",
              "    }\n",
              "</style>\n",
              "<table border=\"1\" class=\"dataframe\">\n",
              "  <thead>\n",
              "    <tr style=\"text-align: right;\">\n",
              "      <th></th>\n",
              "      <th>asin</th>\n",
              "      <th>reviewerID</th>\n",
              "      <th>overall</th>\n",
              "    </tr>\n",
              "  </thead>\n",
              "  <tbody>\n",
              "    <tr>\n",
              "      <th>153210</th>\n",
              "      <td>B0009HN57E</td>\n",
              "      <td>A38WQ96EAM2H3C</td>\n",
              "      <td>5</td>\n",
              "    </tr>\n",
              "    <tr>\n",
              "      <th>1289266</th>\n",
              "      <td>B007BJHETS</td>\n",
              "      <td>A3OCH1Y0NAM61X</td>\n",
              "      <td>5</td>\n",
              "    </tr>\n",
              "    <tr>\n",
              "      <th>529489</th>\n",
              "      <td>B001TH7GSW</td>\n",
              "      <td>A3NR4GKB1STZ5P</td>\n",
              "      <td>5</td>\n",
              "    </tr>\n",
              "    <tr>\n",
              "      <th>898666</th>\n",
              "      <td>B00456VUS6</td>\n",
              "      <td>A3IINOA2WIWSWJ</td>\n",
              "      <td>5</td>\n",
              "    </tr>\n",
              "    <tr>\n",
              "      <th>1504181</th>\n",
              "      <td>B009YONZEG</td>\n",
              "      <td>A1PZPHG3UZZWUM</td>\n",
              "      <td>5</td>\n",
              "    </tr>\n",
              "  </tbody>\n",
              "</table>\n",
              "</div>"
            ],
            "text/plain": [
              "               asin      reviewerID  overall\n",
              "153210   B0009HN57E  A38WQ96EAM2H3C        5\n",
              "1289266  B007BJHETS  A3OCH1Y0NAM61X        5\n",
              "529489   B001TH7GSW  A3NR4GKB1STZ5P        5\n",
              "898666   B00456VUS6  A3IINOA2WIWSWJ        5\n",
              "1504181  B009YONZEG  A1PZPHG3UZZWUM        5"
            ]
          },
          "metadata": {
            "tags": []
          },
          "execution_count": 61
        }
      ]
    },
    {
      "cell_type": "code",
      "metadata": {
        "id": "wmyZcZY7h56N",
        "colab_type": "code",
        "outputId": "224a7d35-e2ff-445b-c967-835707196ea0",
        "colab": {
          "base_uri": "https://localhost:8080/",
          "height": 204
        }
      },
      "source": [
        "testSet.head()"
      ],
      "execution_count": 0,
      "outputs": [
        {
          "output_type": "execute_result",
          "data": {
            "text/html": [
              "<div>\n",
              "<style scoped>\n",
              "    .dataframe tbody tr th:only-of-type {\n",
              "        vertical-align: middle;\n",
              "    }\n",
              "\n",
              "    .dataframe tbody tr th {\n",
              "        vertical-align: top;\n",
              "    }\n",
              "\n",
              "    .dataframe thead th {\n",
              "        text-align: right;\n",
              "    }\n",
              "</style>\n",
              "<table border=\"1\" class=\"dataframe\">\n",
              "  <thead>\n",
              "    <tr style=\"text-align: right;\">\n",
              "      <th></th>\n",
              "      <th>asin</th>\n",
              "      <th>reviewerID</th>\n",
              "      <th>overall</th>\n",
              "    </tr>\n",
              "  </thead>\n",
              "  <tbody>\n",
              "    <tr>\n",
              "      <th>1395806</th>\n",
              "      <td>B008GVM9K4</td>\n",
              "      <td>A2DNMHBMMK54L7</td>\n",
              "      <td>5</td>\n",
              "    </tr>\n",
              "    <tr>\n",
              "      <th>1336375</th>\n",
              "      <td>B007WN8NFC</td>\n",
              "      <td>ANJBAHRMAVTHL</td>\n",
              "      <td>4</td>\n",
              "    </tr>\n",
              "    <tr>\n",
              "      <th>482728</th>\n",
              "      <td>B001JTS83M</td>\n",
              "      <td>A3CQI5ZO1IE5ZK</td>\n",
              "      <td>5</td>\n",
              "    </tr>\n",
              "    <tr>\n",
              "      <th>310060</th>\n",
              "      <td>B000T8PTLI</td>\n",
              "      <td>A3O6HS63C2BGAD</td>\n",
              "      <td>4</td>\n",
              "    </tr>\n",
              "    <tr>\n",
              "      <th>903592</th>\n",
              "      <td>B00466X9SY</td>\n",
              "      <td>A1S57WK7Q3H0MB</td>\n",
              "      <td>5</td>\n",
              "    </tr>\n",
              "  </tbody>\n",
              "</table>\n",
              "</div>"
            ],
            "text/plain": [
              "               asin      reviewerID  overall\n",
              "1395806  B008GVM9K4  A2DNMHBMMK54L7        5\n",
              "1336375  B007WN8NFC   ANJBAHRMAVTHL        4\n",
              "482728   B001JTS83M  A3CQI5ZO1IE5ZK        5\n",
              "310060   B000T8PTLI  A3O6HS63C2BGAD        4\n",
              "903592   B00466X9SY  A1S57WK7Q3H0MB        5"
            ]
          },
          "metadata": {
            "tags": []
          },
          "execution_count": 62
        }
      ]
    },
    {
      "cell_type": "code",
      "metadata": {
        "id": "Md2y0IvHiBjr",
        "colab_type": "code",
        "outputId": "0b19982f-2804-4f4f-9f42-d11af19c70d0",
        "colab": {
          "base_uri": "https://localhost:8080/",
          "height": 340
        }
      },
      "source": [
        "train_data_matrix_na = trainSet.pivot(index='asin', columns='reviewerID', values='overall')\n",
        "train_data_matrix = train_data_matrix_na\n",
        "train_data_matrix"
      ],
      "execution_count": 0,
      "outputs": [
        {
          "output_type": "error",
          "ename": "ValueError",
          "evalue": "ignored",
          "traceback": [
            "\u001b[0;31m---------------------------------------------------------------------------\u001b[0m",
            "\u001b[0;31mValueError\u001b[0m                                Traceback (most recent call last)",
            "\u001b[0;32m<ipython-input-64-ddb4ebd966ef>\u001b[0m in \u001b[0;36m<module>\u001b[0;34m()\u001b[0m\n\u001b[0;32m----> 1\u001b[0;31m \u001b[0mtrain_data_matrix_na\u001b[0m \u001b[0;34m=\u001b[0m \u001b[0mtrainSet\u001b[0m\u001b[0;34m.\u001b[0m\u001b[0mpivot\u001b[0m\u001b[0;34m(\u001b[0m\u001b[0mindex\u001b[0m\u001b[0;34m=\u001b[0m\u001b[0;34m'asin'\u001b[0m\u001b[0;34m,\u001b[0m \u001b[0mcolumns\u001b[0m\u001b[0;34m=\u001b[0m\u001b[0;34m'reviewerID'\u001b[0m\u001b[0;34m,\u001b[0m \u001b[0mvalues\u001b[0m\u001b[0;34m=\u001b[0m\u001b[0;34m'overall'\u001b[0m\u001b[0;34m)\u001b[0m\u001b[0;34m\u001b[0m\u001b[0;34m\u001b[0m\u001b[0m\n\u001b[0m\u001b[1;32m      2\u001b[0m \u001b[0mtrain_data_matrix\u001b[0m \u001b[0;34m=\u001b[0m \u001b[0mtrain_data_matrix_na\u001b[0m\u001b[0;34m\u001b[0m\u001b[0;34m\u001b[0m\u001b[0m\n\u001b[1;32m      3\u001b[0m \u001b[0mtrain_data_matrix\u001b[0m\u001b[0;34m\u001b[0m\u001b[0;34m\u001b[0m\u001b[0m\n",
            "\u001b[0;32m/usr/local/lib/python3.6/dist-packages/pandas/core/frame.py\u001b[0m in \u001b[0;36mpivot\u001b[0;34m(self, index, columns, values)\u001b[0m\n\u001b[1;32m   5932\u001b[0m         \u001b[0;32mfrom\u001b[0m \u001b[0mpandas\u001b[0m\u001b[0;34m.\u001b[0m\u001b[0mcore\u001b[0m\u001b[0;34m.\u001b[0m\u001b[0mreshape\u001b[0m\u001b[0;34m.\u001b[0m\u001b[0mpivot\u001b[0m \u001b[0;32mimport\u001b[0m \u001b[0mpivot\u001b[0m\u001b[0;34m\u001b[0m\u001b[0;34m\u001b[0m\u001b[0m\n\u001b[1;32m   5933\u001b[0m \u001b[0;34m\u001b[0m\u001b[0m\n\u001b[0;32m-> 5934\u001b[0;31m         \u001b[0;32mreturn\u001b[0m \u001b[0mpivot\u001b[0m\u001b[0;34m(\u001b[0m\u001b[0mself\u001b[0m\u001b[0;34m,\u001b[0m \u001b[0mindex\u001b[0m\u001b[0;34m=\u001b[0m\u001b[0mindex\u001b[0m\u001b[0;34m,\u001b[0m \u001b[0mcolumns\u001b[0m\u001b[0;34m=\u001b[0m\u001b[0mcolumns\u001b[0m\u001b[0;34m,\u001b[0m \u001b[0mvalues\u001b[0m\u001b[0;34m=\u001b[0m\u001b[0mvalues\u001b[0m\u001b[0;34m)\u001b[0m\u001b[0;34m\u001b[0m\u001b[0;34m\u001b[0m\u001b[0m\n\u001b[0m\u001b[1;32m   5935\u001b[0m \u001b[0;34m\u001b[0m\u001b[0m\n\u001b[1;32m   5936\u001b[0m     _shared_docs[\n",
            "\u001b[0;32m/usr/local/lib/python3.6/dist-packages/pandas/core/reshape/pivot.py\u001b[0m in \u001b[0;36mpivot\u001b[0;34m(data, index, columns, values)\u001b[0m\n\u001b[1;32m    428\u001b[0m         \u001b[0;32melse\u001b[0m\u001b[0;34m:\u001b[0m\u001b[0;34m\u001b[0m\u001b[0;34m\u001b[0m\u001b[0m\n\u001b[1;32m    429\u001b[0m             \u001b[0mindexed\u001b[0m \u001b[0;34m=\u001b[0m \u001b[0mdata\u001b[0m\u001b[0;34m.\u001b[0m\u001b[0m_constructor_sliced\u001b[0m\u001b[0;34m(\u001b[0m\u001b[0mdata\u001b[0m\u001b[0;34m[\u001b[0m\u001b[0mvalues\u001b[0m\u001b[0;34m]\u001b[0m\u001b[0;34m.\u001b[0m\u001b[0mvalues\u001b[0m\u001b[0;34m,\u001b[0m \u001b[0mindex\u001b[0m\u001b[0;34m=\u001b[0m\u001b[0mindex\u001b[0m\u001b[0;34m)\u001b[0m\u001b[0;34m\u001b[0m\u001b[0;34m\u001b[0m\u001b[0m\n\u001b[0;32m--> 430\u001b[0;31m     \u001b[0;32mreturn\u001b[0m \u001b[0mindexed\u001b[0m\u001b[0;34m.\u001b[0m\u001b[0munstack\u001b[0m\u001b[0;34m(\u001b[0m\u001b[0mcolumns\u001b[0m\u001b[0;34m)\u001b[0m\u001b[0;34m\u001b[0m\u001b[0;34m\u001b[0m\u001b[0m\n\u001b[0m\u001b[1;32m    431\u001b[0m \u001b[0;34m\u001b[0m\u001b[0m\n\u001b[1;32m    432\u001b[0m \u001b[0;34m\u001b[0m\u001b[0m\n",
            "\u001b[0;32m/usr/local/lib/python3.6/dist-packages/pandas/core/series.py\u001b[0m in \u001b[0;36munstack\u001b[0;34m(self, level, fill_value)\u001b[0m\n\u001b[1;32m   3746\u001b[0m         \u001b[0;32mfrom\u001b[0m \u001b[0mpandas\u001b[0m\u001b[0;34m.\u001b[0m\u001b[0mcore\u001b[0m\u001b[0;34m.\u001b[0m\u001b[0mreshape\u001b[0m\u001b[0;34m.\u001b[0m\u001b[0mreshape\u001b[0m \u001b[0;32mimport\u001b[0m \u001b[0munstack\u001b[0m\u001b[0;34m\u001b[0m\u001b[0;34m\u001b[0m\u001b[0m\n\u001b[1;32m   3747\u001b[0m \u001b[0;34m\u001b[0m\u001b[0m\n\u001b[0;32m-> 3748\u001b[0;31m         \u001b[0;32mreturn\u001b[0m \u001b[0munstack\u001b[0m\u001b[0;34m(\u001b[0m\u001b[0mself\u001b[0m\u001b[0;34m,\u001b[0m \u001b[0mlevel\u001b[0m\u001b[0;34m,\u001b[0m \u001b[0mfill_value\u001b[0m\u001b[0;34m)\u001b[0m\u001b[0;34m\u001b[0m\u001b[0;34m\u001b[0m\u001b[0m\n\u001b[0m\u001b[1;32m   3749\u001b[0m \u001b[0;34m\u001b[0m\u001b[0m\n\u001b[1;32m   3750\u001b[0m     \u001b[0;31m# ----------------------------------------------------------------------\u001b[0m\u001b[0;34m\u001b[0m\u001b[0;34m\u001b[0m\u001b[0;34m\u001b[0m\u001b[0m\n",
            "\u001b[0;32m/usr/local/lib/python3.6/dist-packages/pandas/core/reshape/reshape.py\u001b[0m in \u001b[0;36munstack\u001b[0;34m(obj, level, fill_value)\u001b[0m\n\u001b[1;32m    421\u001b[0m             \u001b[0mlevel\u001b[0m\u001b[0;34m=\u001b[0m\u001b[0mlevel\u001b[0m\u001b[0;34m,\u001b[0m\u001b[0;34m\u001b[0m\u001b[0;34m\u001b[0m\u001b[0m\n\u001b[1;32m    422\u001b[0m             \u001b[0mfill_value\u001b[0m\u001b[0;34m=\u001b[0m\u001b[0mfill_value\u001b[0m\u001b[0;34m,\u001b[0m\u001b[0;34m\u001b[0m\u001b[0;34m\u001b[0m\u001b[0m\n\u001b[0;32m--> 423\u001b[0;31m             \u001b[0mconstructor\u001b[0m\u001b[0;34m=\u001b[0m\u001b[0mobj\u001b[0m\u001b[0;34m.\u001b[0m\u001b[0m_constructor_expanddim\u001b[0m\u001b[0;34m,\u001b[0m\u001b[0;34m\u001b[0m\u001b[0;34m\u001b[0m\u001b[0m\n\u001b[0m\u001b[1;32m    424\u001b[0m         )\n\u001b[1;32m    425\u001b[0m         \u001b[0;32mreturn\u001b[0m \u001b[0munstacker\u001b[0m\u001b[0;34m.\u001b[0m\u001b[0mget_result\u001b[0m\u001b[0;34m(\u001b[0m\u001b[0;34m)\u001b[0m\u001b[0;34m\u001b[0m\u001b[0;34m\u001b[0m\u001b[0m\n",
            "\u001b[0;32m/usr/local/lib/python3.6/dist-packages/pandas/core/reshape/reshape.py\u001b[0m in \u001b[0;36m__init__\u001b[0;34m(self, values, index, level, value_columns, fill_value, constructor)\u001b[0m\n\u001b[1;32m    136\u001b[0m         \u001b[0;32mif\u001b[0m \u001b[0mnum_rows\u001b[0m \u001b[0;34m>\u001b[0m \u001b[0;36m0\u001b[0m \u001b[0;32mand\u001b[0m \u001b[0mnum_columns\u001b[0m \u001b[0;34m>\u001b[0m \u001b[0;36m0\u001b[0m \u001b[0;32mand\u001b[0m \u001b[0mnum_cells\u001b[0m \u001b[0;34m<=\u001b[0m \u001b[0;36m0\u001b[0m\u001b[0;34m:\u001b[0m\u001b[0;34m\u001b[0m\u001b[0;34m\u001b[0m\u001b[0m\n\u001b[1;32m    137\u001b[0m             raise ValueError(\n\u001b[0;32m--> 138\u001b[0;31m                 \u001b[0;34m\"Unstacked DataFrame is too big, \"\u001b[0m \u001b[0;34m\"causing int32 overflow\"\u001b[0m\u001b[0;34m\u001b[0m\u001b[0;34m\u001b[0m\u001b[0m\n\u001b[0m\u001b[1;32m    139\u001b[0m             )\n\u001b[1;32m    140\u001b[0m \u001b[0;34m\u001b[0m\u001b[0m\n",
            "\u001b[0;31mValueError\u001b[0m: Unstacked DataFrame is too big, causing int32 overflow"
          ]
        }
      ]
    },
    {
      "cell_type": "markdown",
      "metadata": {
        "id": "MPnqUt-CV_1v",
        "colab_type": "text"
      },
      "source": [
        "***Assumptions that needed to be Answered.***\n",
        "\n",
        "-> people who buy electronics how many people buy cell phones/ TV.\n",
        "\n",
        "-> From the people who buy TV, how often they buy Movies for TV or even Video games.\n",
        "\n",
        "-> People who buy more digital music, how often do they buy musical instruments.\n",
        "\n",
        "-> How often do people who buy Cell phones and accessories, buy something related to sports or outdoors.\n",
        "\n",
        "***All the above questions can be answered when we augment the electronics with another data, so will be working on the other data once we analyze the electronics review data***\n"
      ]
    }
  ]
}